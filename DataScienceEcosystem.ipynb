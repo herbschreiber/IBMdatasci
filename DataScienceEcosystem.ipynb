{
 "cells": [
  {
   "metadata": {},
   "cell_type": "markdown",
   "source": "# Data Science Tools and Ecosystem",
   "id": "962f4ba80dafe2b2"
  },
  {
   "metadata": {},
   "cell_type": "markdown",
   "source": "This a summary of data science tools and exosystems and a utilization of Jupyter Notebook.",
   "id": "88c8daeccd7de7bd"
  },
  {
   "metadata": {},
   "cell_type": "markdown",
   "source": [
    "Popular data science languages include:\n",
    "\n",
    "    1. Python\n",
    "    2. SQL\n",
    "    3. R "
   ],
   "id": "61cfbd44c619fe5f"
  },
  {
   "cell_type": "code",
   "execution_count": null,
   "id": "initial_id",
   "metadata": {
    "collapsed": true
   },
   "outputs": [],
   "source": [
    "Some of the main libraries used by data scientist are:\n",
    "\n",
    "1.  Scikit-learn\n",
    "2.  Pandas\n",
    "3.  Tensorflow"
   ]
  },
  {
   "metadata": {},
   "cell_type": "markdown",
   "source": [
    "|Data Science Tools|\n",
    "|------------------|\n",
    "|Matplotlib|\n",
    "|Python|\n",
    "|Jupyter Notebooks|\n"
   ],
   "id": "6caeaf6d400320c4"
  },
  {
   "metadata": {},
   "cell_type": "markdown",
   "source": "The following cells are examples of math codes in python.",
   "id": "d40a865fc2c181c3"
  },
  {
   "metadata": {
    "ExecuteTime": {
     "end_time": "2024-07-05T03:58:21.312285Z",
     "start_time": "2024-07-05T03:58:21.307149Z"
    }
   },
   "cell_type": "code",
   "source": [
    "#This a simple arithmetic expression to mutiply then add integers.\n",
    "(3*4)+5"
   ],
   "id": "40aa5e79f031d2c6",
   "outputs": [
    {
     "data": {
      "text/plain": [
       "17"
      ]
     },
     "execution_count": 2,
     "metadata": {},
     "output_type": "execute_result"
    }
   ],
   "execution_count": 2
  },
  {
   "metadata": {
    "ExecuteTime": {
     "end_time": "2024-07-05T03:59:08.850231Z",
     "start_time": "2024-07-05T03:59:08.847408Z"
    }
   },
   "cell_type": "code",
   "source": [
    "# This will convert 200 minutes to hours by diving by 60.\n",
    "200/60"
   ],
   "id": "107d3a09ab302a9b",
   "outputs": [
    {
     "data": {
      "text/plain": [
       "3.3333333333333335"
      ]
     },
     "execution_count": 3,
     "metadata": {},
     "output_type": "execute_result"
    }
   ],
   "execution_count": 3
  },
  {
   "metadata": {},
   "cell_type": "markdown",
   "source": [
    "**Objectives:**\n",
    "* list of popular data science tools\n",
    "* list of popular data science language\n",
    "* load and explore Jupyter Lab Tool"
   ],
   "id": "f5eefe33291ced25"
  },
  {
   "metadata": {},
   "cell_type": "code",
   "outputs": [],
   "execution_count": null,
   "source": "",
   "id": "61e10d53313634fc"
  },
  {
   "metadata": {},
   "cell_type": "markdown",
   "source": [
    "# Author\n",
    "Herb S."
   ],
   "id": "3464d84ff07be5e"
  },
  {
   "metadata": {},
   "cell_type": "code",
   "outputs": [],
   "execution_count": null,
   "source": "",
   "id": "34d078689dde7a2c"
  }
 ],
 "metadata": {
  "kernelspec": {
   "display_name": "Python 3",
   "language": "python",
   "name": "python3"
  },
  "language_info": {
   "codemirror_mode": {
    "name": "ipython",
    "version": 2
   },
   "file_extension": ".py",
   "mimetype": "text/x-python",
   "name": "python",
   "nbconvert_exporter": "python",
   "pygments_lexer": "ipython2",
   "version": "2.7.6"
  }
 },
 "nbformat": 4,
 "nbformat_minor": 5
}
